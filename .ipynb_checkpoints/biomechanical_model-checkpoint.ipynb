{
 "cells": [
  {
   "cell_type": "code",
   "execution_count": 15,
   "metadata": {},
   "outputs": [],
   "source": [
    "import numpy as np\n",
    "import torch\n",
    "import time"
   ]
  },
  {
   "cell_type": "code",
   "execution_count": 3,
   "metadata": {},
   "outputs": [],
   "source": [
    "Fs = 1000\n",
    "k = 0.5\n",
    "tau_m = 9.6/1000\n",
    "h = 1.0\n",
    "t_delay = 5+1"
   ]
  },
  {
   "cell_type": "code",
   "execution_count": 26,
   "metadata": {},
   "outputs": [],
   "source": [
    "x = torch.zeros([6,1],dtype=torch.float)\n",
    "A = torch.tensor([[0,1,0,0,0,0],[0,-k/tau_m,1/np.power(tau_m,2),0,-1/np.power(tau_m,2),0],\n",
    "            [0,0,0,1,0,0],[0,0,-1/np.power(tau_m,2),-2/tau_m,0,0],\n",
    "                  [0,0,0,0,0,1],[0,0,0,0,-1/np.power(tau_m,2),-2/tau_m]],\n",
    "                 dtype=torch.float)\n",
    "A1 = torch.tensor([[0,0,0,0,0,0],[0,0,0,0,0,0],\n",
    "            [0,0,0,0,0,0],[0,-h/tau_m,0,0,0,0],\n",
    "                   [0,0,0,0,0,0],[0,h/tau_m,0,0,0,0]],\n",
    "                  dtype=torch.float)\n",
    "B = torch.tensor([[0,0],[0,0],[0,0],\n",
    "                  [1/np.power(tau_m,2),0],[0,0],[0,1/np.power(tau_m,2)]],dtype=torch.float)\n",
    "u = torch.zeros([2,1],dtype=torch.float)"
   ]
  },
  {
   "cell_type": "code",
   "execution_count": 28,
   "metadata": {},
   "outputs": [
    {
     "name": "stdout",
     "output_type": "stream",
     "text": [
      "2.36 µs ± 6.95 ns per loop (mean ± std. dev. of 7 runs, 100000 loops each)\n"
     ]
    }
   ],
   "source": [
    "x_dot = torch.matmul(tensor2,tensor1)"
   ]
  }
 ],
 "metadata": {
  "kernelspec": {
   "display_name": "Python 3",
   "language": "python",
   "name": "python3"
  },
  "language_info": {
   "codemirror_mode": {
    "name": "ipython",
    "version": 3
   },
   "file_extension": ".py",
   "mimetype": "text/x-python",
   "name": "python",
   "nbconvert_exporter": "python",
   "pygments_lexer": "ipython3",
   "version": "3.8.3"
  }
 },
 "nbformat": 4,
 "nbformat_minor": 4
}
