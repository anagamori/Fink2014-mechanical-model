{
 "cells": [
  {
   "cell_type": "code",
   "execution_count": 12,
   "metadata": {},
   "outputs": [],
   "source": [
    "import numpy as np\n",
    "import torch\n",
    "import time\n",
    "import matplotlib.pyplot as plt"
   ]
  },
  {
   "cell_type": "code",
   "execution_count": 24,
   "metadata": {},
   "outputs": [],
   "source": [
    "Fs = 1000\n",
    "time = torch.arange(0,0.5,step = 1/Fs,dtype=torch.float)\n",
    "duration = time.size(0)\n",
    "k = 0.5\n",
    "tau_m = 9.6/1000\n",
    "h = 1.0\n",
    "t_delay = 5+1"
   ]
  },
  {
   "cell_type": "code",
   "execution_count": 4,
   "metadata": {},
   "outputs": [],
   "source": [
    "x = torch.zeros([6,1],dtype=torch.float)\n",
    "A = torch.tensor([[0,1,0,0,0,0],[0,-k/tau_m,1/np.power(tau_m,2),0,-1/np.power(tau_m,2),0],\n",
    "            [0,0,0,1,0,0],[0,0,-1/np.power(tau_m,2),-2/tau_m,0,0],\n",
    "                  [0,0,0,0,0,1],[0,0,0,0,-1/np.power(tau_m,2),-2/tau_m]],\n",
    "                 dtype=torch.float)\n",
    "A1 = torch.tensor([[0,0,0,0,0,0],[0,0,0,0,0,0],\n",
    "            [0,0,0,0,0,0],[0,-h/tau_m,0,0,0,0],\n",
    "                   [0,0,0,0,0,0],[0,h/tau_m,0,0,0,0]],\n",
    "                  dtype=torch.float)\n",
    "B = torch.tensor([[0,0],[0,0],[0,0],\n",
    "                  [1/np.power(tau_m,2),0],[0,0],[0,1/np.power(tau_m,2)]],dtype=torch.float)\n",
    "u = torch.zeros([2,1],dtype=torch.float)"
   ]
  },
  {
   "cell_type": "code",
   "execution_count": 25,
   "metadata": {},
   "outputs": [],
   "source": [
    "I_e = 25*torch.exp(-torch.square(time-0.025)/(2*0.0001))\n",
    "I_f = torch.zeros([duration,1],dtype=torch.float)"
   ]
  },
  {
   "cell_type": "code",
   "execution_count": 15,
   "metadata": {},
   "outputs": [
    {
     "data": {
      "text/plain": [
       "[<matplotlib.lines.Line2D at 0x1ff188e9b80>]"
      ]
     },
     "execution_count": 15,
     "metadata": {},
     "output_type": "execute_result"
    },
    {
     "data": {
      "image/png": "[encoded data removed]",
      "text/plain": [
       "<Figure size 432x288 with 1 Axes>"
      ]
     },
     "metadata": {
      "needs_background": "light"
     },
     "output_type": "display_data"
    }
   ],
   "source": [
    "plt.plot(time,I_e)"
   ]
  },
  {
   "cell_type": "code",
   "execution_count": null,
   "metadata": {},
   "outputs": [],
   "source": [
    "x_mat = torch.zeros()"
   ]
  },
  {
   "cell_type": "code",
   "execution_count": 33,
   "metadata": {},
   "outputs": [],
   "source": [
    "x_dot = torch.matmul(A,x) + torch.matmul(A1,x) + torch.matmul(B,u)"
   ]
  },
  {
   "cell_type": "code",
   "execution_count": 36,
   "metadata": {},
   "outputs": [
    {
     "data": {
      "text/plain": [
       "tensor([[0.],\n",
       "        [0.],\n",
       "        [0.],\n",
       "        [0.],\n",
       "        [0.],\n",
       "        [0.]])"
      ]
     },
     "execution_count": 36,
     "metadata": {},
     "output_type": "execute_result"
    }
   ],
   "source": [
    "x = torch.mul(x_dot,1/Fs) + x\n",
    "x"
   ]
  }
 ],
 "metadata": {
  "kernelspec": {
   "display_name": "Python 3",
   "language": "python",
   "name": "python3"
  },
  "language_info": {
   "codemirror_mode": {
    "name": "ipython",
    "version": 3
   },
   "file_extension": ".py",
   "mimetype": "text/x-python",
   "name": "python",
   "nbconvert_exporter": "python",
   "pygments_lexer": "ipython3",
   "version": "3.8.3"
  }
 },
 "nbformat": 4,
 "nbformat_minor": 4
}
