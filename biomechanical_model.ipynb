{
 "cells": [
  {
   "cell_type": "markdown",
   "metadata": {},
   "source": [
    "# Biomechanical model by Fink et al. (2014)"
   ]
  },
  {
   "cell_type": "markdown",
   "metadata": {},
   "source": [
    "## Descriptions \n",
    "x = state vector \n",
    "`x[0] = theta`\n",
    "`x[1] = theta_dot`\n",
    "`x[2] = T_e`\n",
    "`x[3] = T_e_dot`\n",
    "`x[4] = T_f`\n",
    "`x[5] = T_f_dot`\n",
    "<br>\n",
    "u = input vector\n",
    "`u[0] = I_e`\n",
    "`u[1] = I_f`\n",
    "<br>\n",
    "A = state matrix \n",
    "<br>\n",
    "A1 = delay matrix for sensory feedback\n",
    "<br>\n",
    "B = input matrix"
   ]
  },
  {
   "cell_type": "markdown",
   "metadata": {},
   "source": [
    "### Load required libraries"
   ]
  },
  {
   "cell_type": "code",
   "execution_count": 11,
   "metadata": {},
   "outputs": [],
   "source": [
    "import numpy as np\n",
    "import torch\n",
    "import time\n",
    "import matplotlib.pyplot as plt"
   ]
  },
  {
   "cell_type": "markdown",
   "metadata": {},
   "source": [
    "### Simulation parameters"
   ]
  },
  {
   "cell_type": "code",
   "execution_count": 2,
   "metadata": {},
   "outputs": [],
   "source": [
    "Fs = 1000 # sampling frequency\n",
    "time = torch.arange(0,0.5,step = 1/Fs,dtype=torch.float)# time vector \n",
    "duration = time.size(0) # duration of simulation in samples \n",
    "k = 0.5 # damping coefficient \n",
    "tau_m = 9.6/1000 # time constant (sec)\n",
    "h = 1.0 # feedback gain \n",
    "t_delay = int(0*Fs/1000+1) # feedback delay "
   ]
  },
  {
   "cell_type": "markdown",
   "metadata": {},
   "source": [
    "### Define state vector, state matrix, delay matrix, input matrix and input vector "
   ]
  },
  {
   "cell_type": "code",
   "execution_count": 3,
   "metadata": {},
   "outputs": [],
   "source": [
    "x = torch.zeros([6,1],dtype=torch.float)\n",
    "A = torch.tensor([[0,1,0,0,0,0],[0,-k/tau_m,1/np.power(tau_m,2),0,-1/np.power(tau_m,2),0],\n",
    "            [0,0,0,1,0,0],[0,0,-1/np.power(tau_m,2),-2/tau_m,0,0],\n",
    "                  [0,0,0,0,0,1],[0,0,0,0,-1/np.power(tau_m,2),-2/tau_m]],\n",
    "                 dtype=torch.float)\n",
    "A1 = torch.tensor([[0,0,0,0,0,0],[0,0,0,0,0,0],\n",
    "            [0,0,0,0,0,0],[0,-h/tau_m,0,0,0,0],\n",
    "                   [0,0,0,0,0,0],[0,h/tau_m,0,0,0,0]],\n",
    "                  dtype=torch.float)\n",
    "B = torch.tensor([[0,0],[0,0],[0,0],\n",
    "                  [1/np.power(tau_m,2),0],[0,0],[0,1/np.power(tau_m,2)]],dtype=torch.float)\n",
    "u = torch.zeros([2,1],dtype=torch.float)"
   ]
  },
  {
   "cell_type": "markdown",
   "metadata": {},
   "source": [
    "### Define I_e and I_f"
   ]
  },
  {
   "cell_type": "code",
   "execution_count": 4,
   "metadata": {},
   "outputs": [],
   "source": [
    "I_e = 25*torch.exp(-torch.square(time-0.025)/(2*0.0001))\n",
    "I_f = torch.zeros([duration,1],dtype=torch.float)"
   ]
  },
  {
   "cell_type": "markdown",
   "metadata": {},
   "source": [
    "### Plot I_e"
   ]
  },
  {
   "cell_type": "code",
   "execution_count": 5,
   "metadata": {},
   "outputs": [
    {
     "data": {
      "text/plain": [
       "[<matplotlib.lines.Line2D at 0x28e85fc46a0>]"
      ]
     },
     "execution_count": 5,
     "metadata": {},
     "output_type": "execute_result"
    },
    {
     "data": {
      "image/png": "[encoded data removed]",
      "text/plain": [
       "<Figure size 432x288 with 1 Axes>"
      ]
     },
     "metadata": {
      "needs_background": "light"
     },
     "output_type": "display_data"
    }
   ],
   "source": [
    "plt.plot(time,I_e)"
   ]
  },
  {
   "cell_type": "markdown",
   "metadata": {},
   "source": [
    "### Define matrix to store data"
   ]
  },
  {
   "cell_type": "code",
   "execution_count": 6,
   "metadata": {},
   "outputs": [],
   "source": [
    "x_mat = torch.empty(0, dtype=torch.float)"
   ]
  },
  {
   "cell_type": "markdown",
   "metadata": {},
   "source": [
    "### Run simulation "
   ]
  },
  {
   "cell_type": "code",
   "execution_count": 13,
   "metadata": {},
   "outputs": [
    {
     "name": "stdout",
     "output_type": "stream",
     "text": [
      "0.02900409698486328\n"
     ]
    }
   ],
   "source": [
    "t0 = time.time()\n",
    "for i in range(duration):\n",
    "    u[0] = I_e[i]\n",
    "    u[1] = I_f[i]\n",
    "    if i > t_delay:\n",
    "        x_dot = torch.matmul(A,x) + torch.matmul(A1,x_mat[i-t_delay,:]) + torch.matmul(B,u)\n",
    "    else:\n",
    "        x_dot = torch.matmul(A,x) + torch.matmul(B,u)\n",
    "    x = torch.mul(x_dot,1/Fs) + x\n",
    "    x_mat =  torch.cat((x_mat,x.unsqueeze(0)),0)      \n",
    "tf = time.time()\n",
    "total = tf-t0\n",
    "print(total)"
   ]
  },
  {
   "cell_type": "markdown",
   "metadata": {},
   "source": [
    "### Plot joint angle"
   ]
  },
  {
   "cell_type": "code",
   "execution_count": 8,
   "metadata": {},
   "outputs": [
    {
     "data": {
      "text/plain": [
       "[<matplotlib.lines.Line2D at 0x28e860aa130>]"
      ]
     },
     "execution_count": 8,
     "metadata": {},
     "output_type": "execute_result"
    },
    {
     "data": {
      "image/png": "[encoded data removed]",
      "text/plain": [
       "<Figure size 432x288 with 1 Axes>"
      ]
     },
     "metadata": {
      "needs_background": "light"
     },
     "output_type": "display_data"
    }
   ],
   "source": [
    "plt.plot(time.data.cpu().numpy(),x_mat[:,0].data.cpu().numpy())"
   ]
  },
  {
   "cell_type": "code",
   "execution_count": null,
   "metadata": {},
   "outputs": [],
   "source": []
  }
 ],
 "metadata": {
  "kernelspec": {
   "display_name": "Python 3",
   "language": "python",
   "name": "python3"
  },
  "language_info": {
   "codemirror_mode": {
    "name": "ipython",
    "version": 3
   },
   "file_extension": ".py",
   "mimetype": "text/x-python",
   "name": "python",
   "nbconvert_exporter": "python",
   "pygments_lexer": "ipython3",
   "version": "3.8.5"
  }
 },
 "nbformat": 4,
 "nbformat_minor": 4
}
