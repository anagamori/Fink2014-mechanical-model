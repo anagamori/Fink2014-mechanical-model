{
 "cells": [
  {
   "cell_type": "code",
   "execution_count": 30,
   "metadata": {},
   "outputs": [],
   "source": [
    "import numpy as np\n",
    "import torch\n",
    "import time"
   ]
  },
  {
   "cell_type": "code",
   "execution_count": 31,
   "metadata": {},
   "outputs": [],
   "source": [
    "Fs = 1000\n",
    "k = 0.5\n",
    "tau_m = 9.6/1000\n",
    "h = 1.0\n",
    "t_delay = 5+1"
   ]
  },
  {
   "cell_type": "code",
   "execution_count": 32,
   "metadata": {},
   "outputs": [],
   "source": [
    "x = torch.zeros([6,1],dtype=torch.float)\n",
    "A = torch.tensor([[0,1,0,0,0,0],[0,-k/tau_m,1/np.power(tau_m,2),0,-1/np.power(tau_m,2),0],\n",
    "            [0,0,0,1,0,0],[0,0,-1/np.power(tau_m,2),-2/tau_m,0,0],\n",
    "                  [0,0,0,0,0,1],[0,0,0,0,-1/np.power(tau_m,2),-2/tau_m]],\n",
    "                 dtype=torch.float)\n",
    "A1 = torch.tensor([[0,0,0,0,0,0],[0,0,0,0,0,0],\n",
    "            [0,0,0,0,0,0],[0,-h/tau_m,0,0,0,0],\n",
    "                   [0,0,0,0,0,0],[0,h/tau_m,0,0,0,0]],\n",
    "                  dtype=torch.float)\n",
    "B = torch.tensor([[0,0],[0,0],[0,0],\n",
    "                  [1/np.power(tau_m,2),0],[0,0],[0,1/np.power(tau_m,2)]],dtype=torch.float)\n",
    "u = torch.zeros([2,1],dtype=torch.float)"
   ]
  },
  {
   "cell_type": "code",
   "execution_count": null,
   "metadata": {},
   "outputs": [],
   "source": [
    "I_e = "
   ]
  },
  {
   "cell_type": "code",
   "execution_count": 33,
   "metadata": {},
   "outputs": [],
   "source": [
    "x_dot = torch.matmul(A,x) + torch.matmul(A1,x) + torch.matmul(B,u)"
   ]
  },
  {
   "cell_type": "code",
   "execution_count": 36,
   "metadata": {},
   "outputs": [
    {
     "data": {
      "text/plain": [
       "tensor([[0.],\n",
       "        [0.],\n",
       "        [0.],\n",
       "        [0.],\n",
       "        [0.],\n",
       "        [0.]])"
      ]
     },
     "execution_count": 36,
     "metadata": {},
     "output_type": "execute_result"
    }
   ],
   "source": [
    "x = torch.mul(x_dot,1/Fs) + x\n",
    "x"
   ]
  }
 ],
 "metadata": {
  "kernelspec": {
   "display_name": "Python 3",
   "language": "python",
   "name": "python3"
  },
  "language_info": {
   "codemirror_mode": {
    "name": "ipython",
    "version": 3
   },
   "file_extension": ".py",
   "mimetype": "text/x-python",
   "name": "python",
   "nbconvert_exporter": "python",
   "pygments_lexer": "ipython3",
   "version": "3.8.3"
  }
 },
 "nbformat": 4,
 "nbformat_minor": 4
}
